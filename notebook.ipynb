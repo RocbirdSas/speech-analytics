{
 "cells": [
  {
   "cell_type": "code",
   "execution_count": null,
   "metadata": {},
   "outputs": [],
   "source": [
    "!git --version"
   ]
  },
  {
   "cell_type": "code",
   "execution_count": 1,
   "metadata": {},
   "outputs": [],
   "source": [
    "!pip install ffmpeg-python\n",
    "!pip install git+https://github.com/openai/whisper.git "
   ]
  },
  {
   "cell_type": "code",
   "execution_count": 5,
   "metadata": {},
   "outputs": [
    {
     "name": "stderr",
     "output_type": "stream",
     "text": [
      "100%|███████████████████████████████████████| 461M/461M [00:32<00:00, 14.8MiB/s]\n"
     ]
    }
   ],
   "source": [
    "import whisper\n",
    "\n",
    "model = whisper.load_model(\"small\")"
   ]
  },
  {
   "cell_type": "code",
   "execution_count": 7,
   "metadata": {},
   "outputs": [
    {
     "name": "stdout",
     "output_type": "stream",
     "text": [
      " Buenos dias, se comunicó con recuperación criticia del Banco Entre Ríos, Estefania Herrera tiende. Sí, buenos días. Yo ya me hacía la mañana para hacer un plan de pago, lo voy a hacer. Bueno, permítame el número de documento por favor. 6,246,499. Marta Corvera. Corvera, si. A un teléfono Marta. 155,89,057. Bien. ¿Y el correo electrónico actual? Y es que la chica así me lo leo, es que está mi teléfono. Esa no es... Vamos el mismo. Y por último. Bien, mismo. San Miento, 2073. Bueno, ahí ingresamos a la cuenta Marta. Ya habías visto alguna cantidad de cotas. Así es la chica en mi paso, dos de cotas, puede ser chica. Bueno, sí, son 30,453. Se puede hacer en menos en caso de que necesite menos de igual manera. Ya me escomes a el imá barato. Y la tasa de interés es la misma, pero bueno, todo caso lo terminaría antes. Aguérdemos a ver si me hace menos chico para saber. Ay, me da. Aguérdemes y ahí cargamos un plano en menos cotas. Marta. Sí. Sí, gracias por aguantarme. De total la deuda, haciéndolo en seis cotas, la tasa de interés es del 78,3. Y quedan cotas de 6,600. Sí. Seguramente hacer victoria le comento que la primera es la más pesada por el interés compensatorio. Es decir, puede llegar como máximo al doble. 12,000 pesos, estaríamos hablando de una primera cota para el 15 de marzo. Igual manera, puede ser menos, pero ese sería el tope máximo, vemos, de la primera si lo hacemos en seis cotas. 12,000 y después de 6,600. Seguían 2,000 pesos más. ¿Qué ha dado? 2,000, 6,600, la segunda y de ahí va bajando. Me dijiste 6,600, cuánto por mes, pero no me acuerdo. ¿Cuánto me dijiste? ¿Cuánto más? ¿Cuánto más? ¿Cuánto más? ¿Cuánto más? ¿Cuánto más? ¿Cuánto más? ¿Cuánto más? ¿Cuánto más? ¿Qué era? De 6,000, sí. 6,600. Después me quedan 5 cotas más. Claro. 5, ¿5 de cuánto me dijiste? De 6,600. 6 por 5, se llaman 300. ¿Qué te parece? ¿Cuándo me conviene más? Menos cuotas lo hagan, antes lo termina. Siempre y cuando pueda afrontar la cuota. Si se le hace muy pesado, lo vemos en más. Claro, la cuota no me agarría pesado. Lo que me agarría pesado sería la primera. Que son 2,000 pesos. Es la primera problema. ¿La otra es el más pesado? No, son un peso más fácil. No es tanto. Pero la primera. Esa es la máquina. La primera. Bueno, pero no sería el 2,000. ¿Eres para Marzo? Sí, para Marzo. Bueno, hacer ansaias. Dios me va a ayudar. De una manera la voy a pagar. Bueno. Es que prefiero sacer un sacerdaneado. O sea, cuarenta. Esto, Marta, se le descontaría de su caja de oro terminada en 368. Yo, la verdad, que no entiendo, porque yo no cubro más en este banco. Bueno, igual manera hay que adherirlo al debito automático. Usted puede hacerlo en Entre Río Servicios con el número de documento. ¿Qué? Puede hacerlo en Entre Río Servicios con el número de documento. Caminando de documento. Exactamente. ¿Le queda bien que le mandemos la propuesta a Marta.hola.corverarhojimeil.com o prefiera al otro que la otra corvera? No, no, no, no, no. Porque yo se me va a decir que la puse muy alto. Mandadme lo al mío. Bien. Entonces, esto lo estamos haciendo por ahora por teléfono. Lo vamos a derivar a la sucursal, la de Rosario H.D. o la que está por la Pelegrini. Y eso va a estar pendiente de aprobación. Lo van a aprobar durante el día o mañana más tardar. Yo lo que le recomiendo Marta es que vuelva a llamar en unos dos días para ver si se aprobó. Está todo en orden para que se apruebe la refinanciación. ¿Sí? Ah, porque no se puede aprobar, tampoco. No, es que yo lo cargo ahora, pero lo tienen que aprobar la refinanciación. ¿Pero me lo van a aprobar? ¿Sí? O no. Sí, o sea, no creo que haya problemas. Bien, pero siempre por las dudas para se acelerarse y llame. Bueno, bueno. Bueno, vamos a la conciable de Cheyna. Eh, financiamos la tarjeta de crédito más tardcar por 30,452 pesos con 18 centavos en seis cuotas con una tasa nominal anual de interés del 78,3. La primera cuota máximo hay de 12,000, puede que sea menos, a vencer el 15 de marzo. Segunda cuota, el 15 de abril, por 6,679, hasta terminar la última cuota con 6,401. Al momento de dar el alta de la refinanciación, se ha de baja la tarjeta de forma definitiva, es decir, por más que se termine de pagar el plan de pago, no vuelve a habilitarse la tarjeta. Bueno, la quiero, chicas. Bueno, bien. ¿Alguna duda, Marta? No, en el mismo. La chica, gracias. Bueno, usted por comunicarse, estamos en contacto. Buenos días. Bueno, muchas gracias, chicas. Por favor, adiós.\n"
     ]
    }
   ],
   "source": [
    "\n",
    "audioPath = \"./audio.mp3\"\n",
    "\n",
    "result = model.transcribe(audioPath, fp16=False, language='es')\n",
    "print(result[\"text\"])"
   ]
  }
 ],
 "metadata": {
  "kernelspec": {
   "display_name": "base",
   "language": "python",
   "name": "python3"
  },
  "language_info": {
   "codemirror_mode": {
    "name": "ipython",
    "version": 3
   },
   "file_extension": ".py",
   "mimetype": "text/x-python",
   "name": "python",
   "nbconvert_exporter": "python",
   "pygments_lexer": "ipython3",
   "version": "3.9.13"
  },
  "orig_nbformat": 4
 },
 "nbformat": 4,
 "nbformat_minor": 2
}
